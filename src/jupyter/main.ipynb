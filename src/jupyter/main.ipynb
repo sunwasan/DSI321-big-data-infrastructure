{
 "cells": [
  {
   "cell_type": "code",
   "execution_count": 3,
   "id": "fa59d58e",
   "metadata": {},
   "outputs": [],
   "source": [
    "from python.twitter_scraping import *"
   ]
  },
  {
   "cell_type": "code",
   "execution_count": 1,
   "id": "0e4ce568",
   "metadata": {},
   "outputs": [],
   "source": [
    "import json \n",
    "\n",
    "tweet_data = json.load(open(r\"C:\\Users\\User\\workspace\\DSI321-big-data-infrastructure\\src\\python\\scraped_tweets.json\", \"r\", encoding=\"utf-8\"))"
   ]
  },
  {
   "cell_type": "code",
   "execution_count": null,
   "id": "e6ec06b5",
   "metadata": {},
   "outputs": [],
   "source": [
    "import re\n"
   ]
  },
  {
   "cell_type": "code",
   "execution_count": 17,
   "id": "ef81f6ab",
   "metadata": {},
   "outputs": [],
   "source": [
    "import urllib.parse\n"
   ]
  },
  {
   "cell_type": "code",
   "execution_count": 13,
   "id": "e3292249",
   "metadata": {},
   "outputs": [],
   "source": [
    "tag = 'ธรรมศาสตร์ช้างเผือก'"
   ]
  },
  {
   "cell_type": "code",
   "execution_count": null,
   "id": "dcf130f7",
   "metadata": {},
   "outputs": [],
   "source": [
    "https://x.com/search?q=%23%E0%B8%98%E0%B8%A3%E0%B8%A3%E0%B8%A1%E0%B8%A8%E0%B8%B2%E0%B8%AA%E0%B8%95%E0%B8%A3%E0%B9%8C%E0%B8%8A%E0%B9%89%E0%B8%B2%E0%B8%87%E0%B9%80%E0%B8%9C%E0%B8%B7%E0%B8%AD%E0%B8%81&src=typeahead_click&f=top"
   ]
  },
  {
   "cell_type": "code",
   "execution_count": 39,
   "id": "a29ab2c4",
   "metadata": {},
   "outputs": [
    {
     "data": {
      "text/plain": [
       "True"
      ]
     },
     "execution_count": 39,
     "metadata": {},
     "output_type": "execute_result"
    }
   ],
   "source": [
    "tu_tag = \"https://x.com/search?q=%23%E0%B8%98%E0%B8%A3%E0%B8%A3%E0%B8%A1%E0%B8%A8%E0%B8%B2%E0%B8%AA%E0%B8%95%E0%B8%A3%E0%B9%8C%E0%B8%8A%E0%B9%89%E0%B8%B2%E0%B8%87%E0%B9%80%E0%B8%9C%E0%B8%B7%E0%B8%AD%E0%B8%81&src=typeahead_click&f=top\"\n",
    "thai_text = \"#ธรรมศาสตร์ช้างเผือก\"\n",
    "encoded = urllib.parse.quote(thai_text, safe='')\n",
    "target_url = f\"https://x.com/search?q={encoded}&src=typeahead_click&f=top\"\n",
    "\n",
    "\n",
    "tu_tag == target_url"
   ]
  },
  {
   "cell_type": "code",
   "execution_count": 40,
   "id": "b6a0a4d9",
   "metadata": {},
   "outputs": [
    {
     "data": {
      "text/plain": [
       "'https://x.com/search?q=%23%E0%B8%98%E0%B8%A3%E0%B8%A3%E0%B8%A1%E0%B8%A8%E0%B8%B2%E0%B8%AA%E0%B8%95%E0%B8%A3%E0%B9%8C%E0%B8%8A%E0%B9%89%E0%B8%B2%E0%B8%87%E0%B9%80%E0%B8%9C%E0%B8%B7%E0%B8%AD%E0%B8%81&src=typeahead_click&f=top'"
      ]
     },
     "execution_count": 40,
     "metadata": {},
     "output_type": "execute_result"
    }
   ],
   "source": [
    "target_url"
   ]
  },
  {
   "cell_type": "code",
   "execution_count": 38,
   "id": "85442896",
   "metadata": {},
   "outputs": [
    {
     "data": {
      "text/plain": [
       "'https://x.com/search?q=%23%E0%B8%98%E0%B8%A3%E0%B8%A3%E0%B8%A1%E0%B8%A8%E0%B8%B2%E0%B8%AA%E0%B8%95%E0%B8%A3%E0%B9%8C%E0%B8%8A%E0%B9%89%E0%B8%B2%E0%B8%87%E0%B9%80%E0%B8%9C%E0%B8%B7%E0%B8%AD%E0%B8%81&src=typed_query&f=top'"
      ]
     },
     "execution_count": 38,
     "metadata": {},
     "output_type": "execute_result"
    }
   ],
   "source": [
    "target_url"
   ]
  }
 ],
 "metadata": {
  "kernelspec": {
   "display_name": ".venv",
   "language": "python",
   "name": "python3"
  },
  "language_info": {
   "codemirror_mode": {
    "name": "ipython",
    "version": 3
   },
   "file_extension": ".py",
   "mimetype": "text/x-python",
   "name": "python",
   "nbconvert_exporter": "python",
   "pygments_lexer": "ipython3",
   "version": "3.12.2"
  }
 },
 "nbformat": 4,
 "nbformat_minor": 5
}
