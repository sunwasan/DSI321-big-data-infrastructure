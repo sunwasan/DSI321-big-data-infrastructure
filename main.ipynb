{
 "cells": [
  {
   "cell_type": "code",
   "execution_count": 14,
   "id": "845b78af",
   "metadata": {},
   "outputs": [],
   "source": [
    "import pandas as pd\n",
    "\n",
    "df = pd.read_parquet(\n",
    "    r\"C:\\Users\\User\\workspace\\DSI321-big-data-infrastructure\\data\\faq\\tag=ธรรมศาสตร์ช้างเผือก\\part.parquet\"\n",
    ")"
   ]
  },
  {
   "cell_type": "code",
   "execution_count": 15,
   "id": "19e880de",
   "metadata": {},
   "outputs": [],
   "source": [
    "df['tag'] = \"ธรรมศาสตร์ช้างเผือก\"\n",
    "df['postDay'] = pd.to_datetime(df['postTime']).dt.day\n",
    "df['postMonth'] = pd.to_datetime(df['postTime']).dt.month\n",
    "df['postYear'] = pd.to_datetime(df['postTime']).dt.year"
   ]
  },
  {
   "cell_type": "code",
   "execution_count": 16,
   "id": "297885f6",
   "metadata": {},
   "outputs": [],
   "source": [
    "df.to_parquet(\n",
    "    r\"C:\\Users\\User\\workspace\\DSI321-big-data-infrastructure\\data\\faq\\tag=ธรรมศาสตร์ช้างเผือก\\part.parquet\",\n",
    "    index=False,\n",
    "    compression='snappy'\n",
    ")"
   ]
  }
 ],
 "metadata": {
  "kernelspec": {
   "display_name": ".venv",
   "language": "python",
   "name": "python3"
  },
  "language_info": {
   "codemirror_mode": {
    "name": "ipython",
    "version": 3
   },
   "file_extension": ".py",
   "mimetype": "text/x-python",
   "name": "python",
   "nbconvert_exporter": "python",
   "pygments_lexer": "ipython3",
   "version": "3.12.2"
  }
 },
 "nbformat": 4,
 "nbformat_minor": 5
}
